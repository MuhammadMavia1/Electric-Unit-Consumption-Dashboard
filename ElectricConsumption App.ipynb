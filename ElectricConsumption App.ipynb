{
 "cells": [
  {
   "cell_type": "code",
   "execution_count": 2,
   "id": "f703bfd7",
   "metadata": {},
   "outputs": [
    {
     "name": "stdout",
     "output_type": "stream",
     "text": [
      " * Serving Flask app '__main__'\n",
      " * Debug mode: off\n"
     ]
    },
    {
     "name": "stderr",
     "output_type": "stream",
     "text": [
      "WARNING: This is a development server. Do not use it in a production deployment. Use a production WSGI server instead.\n",
      " * Running on http://127.0.0.1:5000\n",
      "Press CTRL+C to quit\n",
      "127.0.0.1 - - [05/Jan/2025 21:59:07] \"GET / HTTP/1.1\" 200 -\n",
      "127.0.0.1 - - [05/Jan/2025 21:59:07] \"GET /static/style.css HTTP/1.1\" 304 -\n",
      "127.0.0.1 - - [05/Jan/2025 21:59:07] \"GET /static/scripts.js HTTP/1.1\" 304 -\n",
      "127.0.0.1 - - [05/Jan/2025 21:59:17] \"GET /static/style.css HTTP/1.1\" 304 -\n",
      "127.0.0.1 - - [05/Jan/2025 21:59:21] \"GET /fetch-data?start_date=2025-01-05&end_date=2025-01-05&unit_cost_threshold= HTTP/1.1\" 200 -\n"
     ]
    }
   ],
   "source": [
    "from flask import Flask, render_template, jsonify, request\n",
    "import requests\n",
    "from datetime import datetime\n",
    "\n",
    "app = Flask(__name__)\n",
    "\n",
    "# Helper function to reformat date to DD/MM/YYYY\n",
    "def reformat_date(date_input):\n",
    "    try:\n",
    "        parsed_date = datetime.strptime(date_input, \"%Y-%m-%d\")\n",
    "        return parsed_date.strftime(\"%d/%m/%Y\")\n",
    "    except ValueError:\n",
    "        return None\n",
    "\n",
    "# Route for the home page\n",
    "@app.route('/')\n",
    "def home():\n",
    "    return render_template('index.html')\n",
    "\n",
    "# Route to fetch data from the API\n",
    "@app.route('/fetch-data', methods=['GET'])\n",
    "def fetch_data():\n",
    "    API_BASE_URL = \"http://desktop-uqr4cb6:7080/electricconsumptionapi/v1/consumption\"\n",
    "\n",
    "    raw_start_date = request.args.get('start_date', '2025-01-01')\n",
    "    raw_end_date = request.args.get('end_date', '2025-01-01')\n",
    "    threshold = request.args.get('unit_cost_threshold', '')\n",
    "\n",
    "    start_date = reformat_date(raw_start_date)\n",
    "    end_date = reformat_date(raw_end_date)\n",
    "\n",
    "    if not start_date or not end_date:\n",
    "        return jsonify({\"status\": \"error\", \"message\": \"Invalid date format. Use YYYY-MM-DD.\"}), 400\n",
    "\n",
    "    try:\n",
    "        response = requests.get(\n",
    "            API_BASE_URL,\n",
    "            params={\n",
    "                \"start_date\": start_date,\n",
    "                \"end_date\": end_date,\n",
    "                \"threshold\": threshold\n",
    "            }\n",
    "        )\n",
    "        response.raise_for_status()\n",
    "        data = response.json()\n",
    "        if not data or 'status' not in data:\n",
    "            return jsonify({\"status\": \"error\", \"message\": \"Invalid API response\"}), 500\n",
    "        return jsonify(data)\n",
    "    except requests.exceptions.RequestException as e:\n",
    "        return jsonify({\"status\": \"error\", \"message\": str(e)}), 500\n",
    "\n",
    "# Error handler for invalid routes\n",
    "@app.errorhandler(404)\n",
    "def not_found_error(error):\n",
    "    return jsonify({\"status\": \"error\", \"message\": \"Resource not found\"}), 404\n",
    "\n",
    "# Error handler for invalid input\n",
    "@app.errorhandler(400)\n",
    "def bad_request_error(error):\n",
    "    return jsonify({\"status\": \"error\", \"message\": error.description}), 400\n",
    "\n",
    "if __name__ == '__main__':\n",
    "    app.run(debug=False)\n"
   ]
  },
  {
   "cell_type": "code",
   "execution_count": null,
   "id": "7bfa92f3-27a9-4283-aa99-9a64c9912326",
   "metadata": {},
   "outputs": [],
   "source": []
  }
 ],
 "metadata": {
  "kernelspec": {
   "display_name": "Python 3 (ipykernel)",
   "language": "python",
   "name": "python3"
  },
  "language_info": {
   "codemirror_mode": {
    "name": "ipython",
    "version": 3
   },
   "file_extension": ".py",
   "mimetype": "text/x-python",
   "name": "python",
   "nbconvert_exporter": "python",
   "pygments_lexer": "ipython3",
   "version": "3.12.7"
  }
 },
 "nbformat": 4,
 "nbformat_minor": 5
}
